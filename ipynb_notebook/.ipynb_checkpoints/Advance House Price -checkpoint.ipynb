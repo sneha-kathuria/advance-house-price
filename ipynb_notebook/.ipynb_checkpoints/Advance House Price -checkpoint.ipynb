{
 "cells": [
  {
   "cell_type": "code",
   "execution_count": 1,
   "metadata": {},
   "outputs": [
    {
     "data": {
      "text/html": [
       "<script>\n",
       "code_show=true; \n",
       "function code_toggle() {\n",
       " if (code_show){\n",
       " $('div.input').hide();\n",
       " } else {\n",
       " $('div.input').show();\n",
       " }\n",
       " code_show = !code_show\n",
       "} \n",
       "$( document ).ready(code_toggle);\n",
       "</script>\n",
       "<form action=\"javascript:code_toggle()\"><input type=\"submit\" value=\"Click here to toggle on/off the raw code.\"></form>"
      ],
      "text/plain": [
       "<IPython.core.display.HTML object>"
      ]
     },
     "execution_count": 1,
     "metadata": {},
     "output_type": "execute_result"
    }
   ],
   "source": [
    "from IPython.display import HTML\n",
    "from IPython.display import Image\n",
    "\n",
    "HTML('''<script>\n",
    "code_show=true; \n",
    "function code_toggle() {\n",
    " if (code_show){\n",
    " $('div.input').hide();\n",
    " } else {\n",
    " $('div.input').show();\n",
    " }\n",
    " code_show = !code_show\n",
    "} \n",
    "$( document ).ready(code_toggle);\n",
    "</script>\n",
    "<form action=\"javascript:code_toggle()\"><input type=\"submit\" value=\"Click here to toggle on/off the raw code.\"></form>''')"
   ]
  },
  {
   "cell_type": "code",
   "execution_count": 2,
   "metadata": {},
   "outputs": [
    {
     "data": {
      "text/html": [
       "<img src=\"../PwNY.gif\" width=\"900\"/>"
      ],
      "text/plain": [
       "<IPython.core.display.Image object>"
      ]
     },
     "execution_count": 2,
     "metadata": {},
     "output_type": "execute_result"
    }
   ],
   "source": [
    "from IPython.display import Image\n",
    "Image(url='../PwNY.gif', width = 900)"
   ]
  },
  {
   "cell_type": "markdown",
   "metadata": {},
   "source": [
    "# Introduction\n",
    "\n",
    "<p>In this notebook, I intent to use the Kaggle Advance House Problem to predict the price of a house based on its features. \n",
    "\n",
    "Just based on my intuition, the first thing that comes to my mind is that houses with more square footage will be more costly than the ones with less square footage. When I think harder, I realize that a 1000sq ft house in Boston downtown is not the same price as a 1000sq ft house in Greater Boston area. The complexity of the problem lies in various factors interacting with one another.</p>\n",
    "\n",
    "<p>In this notebook, my main focus is to analyze factors that contribute in estimating a price of a house. Below are the few factors that I think we play significant role in house predictions are below</p>\n",
    "<li>Square Footage</li>\n",
    "<li>Locality</li>\n",
    "<li>Proximity to schools</li>\n",
    "<li>No. of rooms</li>\n",
    "<li>Amneties</li>"
   ]
  },
  {
   "cell_type": "markdown",
   "metadata": {},
   "source": [
    "<h3>Importing the packages needed for data analysis, regressor and visualization.</h3>"
   ]
  },
  {
   "cell_type": "code",
   "execution_count": 3,
   "metadata": {},
   "outputs": [
    {
     "name": "stdout",
     "output_type": "stream",
     "text": [
      "package have been loaded...\n"
     ]
    },
    {
     "name": "stderr",
     "output_type": "stream",
     "text": [
      "/anaconda3/lib/python3.6/site-packages/sklearn/cross_validation.py:41: DeprecationWarning: This module was deprecated in version 0.18 in favor of the model_selection module into which all the refactored classes and functions are moved. Also note that the interface of the new CV iterators are different from that of this module. This module will be removed in 0.20.\n",
      "  \"This module will be removed in 0.20.\", DeprecationWarning)\n",
      "/anaconda3/lib/python3.6/site-packages/sklearn/grid_search.py:42: DeprecationWarning: This module was deprecated in version 0.18 in favor of the model_selection module into which all the refactored classes and functions are moved. This module will be removed in 0.20.\n",
      "  DeprecationWarning)\n"
     ]
    }
   ],
   "source": [
    "# Loading the packages needed\n",
    "import pandas as pd\n",
    "import numpy as np\n",
    "import datetime\n",
    "from sklearn.model_selection import train_test_split\n",
    "from sklearn.ensemble import GradientBoostingClassifier  #GBM algorithm\n",
    "from sklearn import cross_validation, metrics   #Additional scklearn functions\n",
    "from sklearn.grid_search import GridSearchCV   #Perforing grid search\n",
    "import seaborn as sns\n",
    "import matplotlib\n",
    "import matplotlib.pyplot as plt\n",
    "print('package have been loaded...')"
   ]
  },
  {
   "cell_type": "markdown",
   "metadata": {},
   "source": [
    "<h3>Loading the train and test</h3>"
   ]
  },
  {
   "cell_type": "code",
   "execution_count": 4,
   "metadata": {},
   "outputs": [
    {
     "name": "stdout",
     "output_type": "stream",
     "text": [
      "Id field has been dropped\n",
      "Trainset Shape (1460, 80)\n",
      "Train/Test are loaded...\n"
     ]
    }
   ],
   "source": [
    "# Loading the datasets\n",
    "train = pd.read_csv('../data/train.csv')\n",
    "test = pd.read_csv('../data/test.csv')\n",
    "# Saving the train id and the test id\n",
    "train_id = train['Id']\n",
    "test_id = test['Id']\n",
    "train.drop(['Id'], axis=1, inplace=True)\n",
    "test.drop(['Id'], axis=1, inplace=True)\n",
    "print('Id field has been dropped')\n",
    "print('Trainset Shape', train.shape)\n",
    "print('Train/Test are loaded...')"
   ]
  },
  {
   "cell_type": "code",
   "execution_count": 5,
   "metadata": {},
   "outputs": [
    {
     "data": {
      "text/html": [
       "<div>\n",
       "<style scoped>\n",
       "    .dataframe tbody tr th:only-of-type {\n",
       "        vertical-align: middle;\n",
       "    }\n",
       "\n",
       "    .dataframe tbody tr th {\n",
       "        vertical-align: top;\n",
       "    }\n",
       "\n",
       "    .dataframe thead th {\n",
       "        text-align: right;\n",
       "    }\n",
       "</style>\n",
       "<table border=\"1\" class=\"dataframe\">\n",
       "  <thead>\n",
       "    <tr style=\"text-align: right;\">\n",
       "      <th></th>\n",
       "      <th>MSSubClass</th>\n",
       "      <th>MSZoning</th>\n",
       "      <th>LotFrontage</th>\n",
       "      <th>LotArea</th>\n",
       "      <th>Street</th>\n",
       "      <th>Alley</th>\n",
       "      <th>LotShape</th>\n",
       "      <th>LandContour</th>\n",
       "      <th>Utilities</th>\n",
       "      <th>LotConfig</th>\n",
       "      <th>...</th>\n",
       "      <th>PoolArea</th>\n",
       "      <th>PoolQC</th>\n",
       "      <th>Fence</th>\n",
       "      <th>MiscFeature</th>\n",
       "      <th>MiscVal</th>\n",
       "      <th>MoSold</th>\n",
       "      <th>YrSold</th>\n",
       "      <th>SaleType</th>\n",
       "      <th>SaleCondition</th>\n",
       "      <th>SalePrice</th>\n",
       "    </tr>\n",
       "  </thead>\n",
       "  <tbody>\n",
       "    <tr>\n",
       "      <th>0</th>\n",
       "      <td>60</td>\n",
       "      <td>RL</td>\n",
       "      <td>65.0</td>\n",
       "      <td>8450</td>\n",
       "      <td>Pave</td>\n",
       "      <td>NaN</td>\n",
       "      <td>Reg</td>\n",
       "      <td>Lvl</td>\n",
       "      <td>AllPub</td>\n",
       "      <td>Inside</td>\n",
       "      <td>...</td>\n",
       "      <td>0</td>\n",
       "      <td>NaN</td>\n",
       "      <td>NaN</td>\n",
       "      <td>NaN</td>\n",
       "      <td>0</td>\n",
       "      <td>2</td>\n",
       "      <td>2008</td>\n",
       "      <td>WD</td>\n",
       "      <td>Normal</td>\n",
       "      <td>208500</td>\n",
       "    </tr>\n",
       "    <tr>\n",
       "      <th>1</th>\n",
       "      <td>20</td>\n",
       "      <td>RL</td>\n",
       "      <td>80.0</td>\n",
       "      <td>9600</td>\n",
       "      <td>Pave</td>\n",
       "      <td>NaN</td>\n",
       "      <td>Reg</td>\n",
       "      <td>Lvl</td>\n",
       "      <td>AllPub</td>\n",
       "      <td>FR2</td>\n",
       "      <td>...</td>\n",
       "      <td>0</td>\n",
       "      <td>NaN</td>\n",
       "      <td>NaN</td>\n",
       "      <td>NaN</td>\n",
       "      <td>0</td>\n",
       "      <td>5</td>\n",
       "      <td>2007</td>\n",
       "      <td>WD</td>\n",
       "      <td>Normal</td>\n",
       "      <td>181500</td>\n",
       "    </tr>\n",
       "    <tr>\n",
       "      <th>2</th>\n",
       "      <td>60</td>\n",
       "      <td>RL</td>\n",
       "      <td>68.0</td>\n",
       "      <td>11250</td>\n",
       "      <td>Pave</td>\n",
       "      <td>NaN</td>\n",
       "      <td>IR1</td>\n",
       "      <td>Lvl</td>\n",
       "      <td>AllPub</td>\n",
       "      <td>Inside</td>\n",
       "      <td>...</td>\n",
       "      <td>0</td>\n",
       "      <td>NaN</td>\n",
       "      <td>NaN</td>\n",
       "      <td>NaN</td>\n",
       "      <td>0</td>\n",
       "      <td>9</td>\n",
       "      <td>2008</td>\n",
       "      <td>WD</td>\n",
       "      <td>Normal</td>\n",
       "      <td>223500</td>\n",
       "    </tr>\n",
       "    <tr>\n",
       "      <th>3</th>\n",
       "      <td>70</td>\n",
       "      <td>RL</td>\n",
       "      <td>60.0</td>\n",
       "      <td>9550</td>\n",
       "      <td>Pave</td>\n",
       "      <td>NaN</td>\n",
       "      <td>IR1</td>\n",
       "      <td>Lvl</td>\n",
       "      <td>AllPub</td>\n",
       "      <td>Corner</td>\n",
       "      <td>...</td>\n",
       "      <td>0</td>\n",
       "      <td>NaN</td>\n",
       "      <td>NaN</td>\n",
       "      <td>NaN</td>\n",
       "      <td>0</td>\n",
       "      <td>2</td>\n",
       "      <td>2006</td>\n",
       "      <td>WD</td>\n",
       "      <td>Abnorml</td>\n",
       "      <td>140000</td>\n",
       "    </tr>\n",
       "    <tr>\n",
       "      <th>4</th>\n",
       "      <td>60</td>\n",
       "      <td>RL</td>\n",
       "      <td>84.0</td>\n",
       "      <td>14260</td>\n",
       "      <td>Pave</td>\n",
       "      <td>NaN</td>\n",
       "      <td>IR1</td>\n",
       "      <td>Lvl</td>\n",
       "      <td>AllPub</td>\n",
       "      <td>FR2</td>\n",
       "      <td>...</td>\n",
       "      <td>0</td>\n",
       "      <td>NaN</td>\n",
       "      <td>NaN</td>\n",
       "      <td>NaN</td>\n",
       "      <td>0</td>\n",
       "      <td>12</td>\n",
       "      <td>2008</td>\n",
       "      <td>WD</td>\n",
       "      <td>Normal</td>\n",
       "      <td>250000</td>\n",
       "    </tr>\n",
       "  </tbody>\n",
       "</table>\n",
       "<p>5 rows × 80 columns</p>\n",
       "</div>"
      ],
      "text/plain": [
       "   MSSubClass MSZoning  LotFrontage  LotArea Street Alley LotShape  \\\n",
       "0          60       RL         65.0     8450   Pave   NaN      Reg   \n",
       "1          20       RL         80.0     9600   Pave   NaN      Reg   \n",
       "2          60       RL         68.0    11250   Pave   NaN      IR1   \n",
       "3          70       RL         60.0     9550   Pave   NaN      IR1   \n",
       "4          60       RL         84.0    14260   Pave   NaN      IR1   \n",
       "\n",
       "  LandContour Utilities LotConfig    ...     PoolArea PoolQC Fence  \\\n",
       "0         Lvl    AllPub    Inside    ...            0    NaN   NaN   \n",
       "1         Lvl    AllPub       FR2    ...            0    NaN   NaN   \n",
       "2         Lvl    AllPub    Inside    ...            0    NaN   NaN   \n",
       "3         Lvl    AllPub    Corner    ...            0    NaN   NaN   \n",
       "4         Lvl    AllPub       FR2    ...            0    NaN   NaN   \n",
       "\n",
       "  MiscFeature MiscVal MoSold  YrSold  SaleType  SaleCondition  SalePrice  \n",
       "0         NaN       0      2    2008        WD         Normal     208500  \n",
       "1         NaN       0      5    2007        WD         Normal     181500  \n",
       "2         NaN       0      9    2008        WD         Normal     223500  \n",
       "3         NaN       0      2    2006        WD        Abnorml     140000  \n",
       "4         NaN       0     12    2008        WD         Normal     250000  \n",
       "\n",
       "[5 rows x 80 columns]"
      ]
     },
     "execution_count": 5,
     "metadata": {},
     "output_type": "execute_result"
    }
   ],
   "source": [
    "# Building a simple model using selected features\n",
    "train.head()"
   ]
  },
  {
   "cell_type": "markdown",
   "metadata": {},
   "source": [
    "<h3>Imputing the missing features</h3>"
   ]
  },
  {
   "cell_type": "code",
   "execution_count": 6,
   "metadata": {},
   "outputs": [
    {
     "data": {
      "image/png": "[encoded data removed]",
      "text/plain": [
       "<matplotlib.figure.Figure at 0x1a0f2095c0>"
      ]
     },
     "metadata": {},
     "output_type": "display_data"
    }
   ],
   "source": [
    "count_miss_train = train.isnull().sum()\n",
    "count_miss_train = count_miss_train[count_miss_train!=0].sort_values(ascending=False)\n",
    "\n",
    "plt.subplots(figsize =(20, 10))\n",
    "count_miss_train.plot(kind='bar', color='#40b4e5')\n",
    "plt.xlabel('Features')\n",
    "plt.ylabel('Sales')\n",
    "plt.show()"
   ]
  },
  {
   "cell_type": "code",
   "execution_count": 7,
   "metadata": {},
   "outputs": [
    {
     "data": {
      "image/png": "[encoded data removed]",
      "text/plain": [
       "<matplotlib.figure.Figure at 0x1a108e7630>"
      ]
     },
     "metadata": {},
     "output_type": "display_data"
    }
   ],
   "source": [
    "# Also, analyzing the missing data in testing set\n",
    "count_miss_test = test.isnull().sum()\n",
    "count_miss_test = count_miss_test[count_miss_test!=0].sort_values(ascending=False)\n",
    "\n",
    "plt.subplots(figsize =(20, 10))\n",
    "count_miss_test.plot(kind='bar', color='#40b4e5')\n",
    "plt.xlabel('Features')\n",
    "plt.ylabel('Sales')\n",
    "plt.show()"
   ]
  },
  {
   "cell_type": "markdown",
   "metadata": {
    "collapsed": true
   },
   "source": [
    "<p> For values which have lesser missing values, we will impute either by frequency (mode) if the feature is categorical, else, with mean / median if it is non categorical. For features with higher number of missing values, we will remove them</p>\n",
    "\n",
    "<li>PoolQC - Pool Quality (can be removed)</li>\n",
    "<li>MiscFeature: Miscellaneous feature not covered in other categories (can be removed</li>"
   ]
  },
  {
   "cell_type": "code",
   "execution_count": 22,
   "metadata": {
    "collapsed": true
   },
   "outputs": [],
   "source": [
    "# Combining the test and train data\n",
    "train['Type'] = 'Train'\n",
    "test['Type'] = 'Test'\n",
    "housing = train.append(test)"
   ]
  },
  {
   "cell_type": "code",
   "execution_count": 56,
   "metadata": {},
   "outputs": [
    {
     "data": {
      "image/png": "[encoded data removed]",
      "text/plain": [
       "<matplotlib.figure.Figure at 0x1a11cbc208>"
      ]
     },
     "metadata": {},
     "output_type": "display_data"
    }
   ],
   "source": [
    "housing_miss = housing.isnull().sum()\n",
    "housing_miss = housing_miss[housing_miss!=0].sort_values(ascending=False)\n",
    "\n",
    "plt.subplots(figsize =(20, 10))\n",
    "housing_miss.plot(kind='bar', color='#40b4e5')\n",
    "plt.xlabel('Features')\n",
    "plt.ylabel('Sales')\n",
    "plt.show()"
   ]
  },
  {
   "cell_type": "code",
   "execution_count": 55,
   "metadata": {
    "collapsed": true
   },
   "outputs": [],
   "source": [
    "# Imputing with mode for below features\n",
    "GarageQual_mode = housing[housing.GarageQual.notnull()]['GarageQual'].mode()[0]\n",
    "housing['GarageQual'].fillna(GarageQual_mode,inplace=True)\n",
    "\n",
    "GarageYrBlt_mode = housing[housing.GarageYrBlt.notnull()]['GarageYrBlt'].mode()[0]\n",
    "housing['GarageYrBlt'].fillna(GarageYrBlt_mode,inplace=True)\n",
    "\n",
    "GarageCond_mode = housing[housing.GarageCond.notnull()]['GarageCond'].mode()[0]\n",
    "housing['GarageCond'].fillna(GarageCond_mode,inplace=True)\n",
    "\n",
    "GarageFinish_mode = housing[housing.GarageFinish.notnull()]['GarageFinish'].mode()[0]\n",
    "housing['GarageFinish'].fillna(GarageFinish_mode,inplace=True)\n",
    "\n",
    "GarageType_mode = housing[housing.GarageType.notnull()]['GarageType'].mode()[0]\n",
    "housing['GarageType'].fillna(GarageType_mode,inplace=True)\n",
    "\n",
    "BsmtExposure_mode = housing[housing.BsmtExposure.notnull()]['BsmtExposure'].mode()[0]\n",
    "housing['BsmtExposure'].fillna(BsmtExposure_mode,inplace=True)\n",
    "\n",
    "BsmtCond_mode = housing[housing.BsmtCond.notnull()]['BsmtCond'].mode()[0]\n",
    "housing['BsmtCond'].fillna(BsmtCond_mode,inplace=True)\n",
    "\n",
    "BsmtQual_mode = housing[housing.BsmtQual.notnull()]['BsmtQual'].mode()[0]\n",
    "housing['BsmtQual'].fillna(BsmtQual_mode,inplace=True)\n",
    "\n",
    "BsmtFinType2_mode = housing[housing.BsmtFinType2.notnull()]['BsmtFinType2'].mode()[0]\n",
    "housing['BsmtFinType2'].fillna(BsmtFinType2_mode,inplace=True)\n",
    "\n",
    "BsmtFinType1_mode = housing[housing.BsmtFinType1.notnull()]['BsmtFinType1'].mode()[0]\n",
    "housing['BsmtFinType1'].fillna(BsmtFinType1_mode,inplace=True)\n",
    "\n",
    "MasVnrArea_mean = housing[housing.MasVnrArea.notnull()]['MasVnrArea'].median()[0]\n",
    "housing['MasVnrArea'].fillna(MasVnrArea_mode,inplace=True)"
   ]
  },
  {
   "cell_type": "code",
   "execution_count": 51,
   "metadata": {},
   "outputs": [
    {
     "data": {
      "image/png": "[encoded data removed]",
      "text/plain": [
       "<matplotlib.figure.Figure at 0x1a11c501d0>"
      ]
     },
     "metadata": {},
     "output_type": "display_data"
    }
   ],
   "source": [
    "housing[housing.MasVnrArea.notnull()]['MasVnrArea'].hist()\n",
    "plt.show()"
   ]
  },
  {
   "cell_type": "markdown",
   "metadata": {},
   "source": [
    "Based on the histogram, we will keep the value as 0"
   ]
  },
  {
   "cell_type": "code",
   "execution_count": null,
   "metadata": {
    "collapsed": true
   },
   "outputs": [],
   "source": [
    "MasVnrType_mode = housing[housing.MasVnrType.notnull()]['MasVnrType'].mode()[0]\n",
    "housing['MasVnrType'].fillna(MasVnrType_mode,inplace=True)\n",
    "\n",
    "BsmtCond_mode = housing[housing.BsmtCond.notnull()]['BsmtCond'].mode()[0]\n",
    "housing['Electrical'].fillna(BsmtCond_mode,inplace=True)\n",
    "\n",
    "BsmtQual_mode = housing[housing.BsmtQual.notnull()]['BsmtQual'].mode()[0]\n",
    "housing['BsmtUnfSF'].fillna(BsmtQual_mode,inplace=True)\n",
    "\n",
    "BsmtHalfBath_mode = housing[housing.BsmtHalfBath.notnull()]['BsmtHalfBath'].mode()[0]\n",
    "housing['BsmtHalfBath'].fillna(BsmtHalfBath_mode,inplace=True)"
   ]
  },
  {
   "cell_type": "code",
   "execution_count": 63,
   "metadata": {},
   "outputs": [
    {
     "data": {
      "image/png": "[encoded data removed]",
      "text/plain": [
       "<matplotlib.figure.Figure at 0x1a11c44978>"
      ]
     },
     "metadata": {},
     "output_type": "display_data"
    }
   ],
   "source": [
    "housing[housing.BsmtHalfBath.notnull()]['BsmtHalfBath'].hist()\n",
    "plt.show()"
   ]
  },
  {
   "cell_type": "markdown",
   "metadata": {},
   "source": [
    "Keeping this value as 0"
   ]
  },
  {
   "cell_type": "code",
   "execution_count": null,
   "metadata": {
    "collapsed": true
   },
   "outputs": [],
   "source": [
    "BsmtFinType1_mode = housing[housing.BsmtFinType1.notnull()]['BsmtFinType1'].mode()[0]\n",
    "housing['BsmtFinType1'].fillna(BsmtFinType1_mode,inplace=True)\n",
    "\n",
    "Utilities_mode = housing[housing.Utilities.notnull()]['Utilities'].mode()[0]\n",
    "housing['Utilities'].fillna(Utilities_mode,inplace=True)\n",
    "\n",
    "Functional_mode = housing[housing.Functional.notnull()]['Functional'].mode()[0]\n",
    "housing['Functional'].fillna(Functional_mode,inplace=True)\n",
    "\n",
    "BsmtFinType1_mode = housing[housing.BsmtFinType1.notnull()]['BsmtFinType1'].mode()[0]\n",
    "housing['BsmtFinType1'].fillna(BsmtFinType1_mode,inplace=True)\n",
    "\n",
    "Exterior1st_mode = housing[housing.Exterior1st.notnull()]['Exterior1st'].mode()[0]\n",
    "housing['Exterior1st'].fillna(Exterior1st_mode,inplace=True)\n",
    "\n",
    "Exterior2nd_mode = housing[housing.Exterior2nd.notnull()]['Exterior2nd'].mode()[0]\n",
    "housing['Exterior2nd'].fillna(Exterior2nd_mode,inplace=True)\n",
    "\n",
    "TotalBsmtSF_mode = housing[housing.TotalBsmtSF.notnull()]['TotalBsmtSF'].mode()[0]\n",
    "housing['TotalBsmtSF'].fillna(TotalBsmtSF_mode,inplace=True)"
   ]
  },
  {
   "cell_type": "code",
   "execution_count": 72,
   "metadata": {},
   "outputs": [
    {
     "data": {
      "image/png": "[encoded data removed]",
      "text/plain": [
       "<matplotlib.figure.Figure at 0x1a11e5f9e8>"
      ]
     },
     "metadata": {},
     "output_type": "display_data"
    }
   ],
   "source": [
    "housing[housing.TotalBsmtSF.notnull()]['TotalBsmtSF'].hist()\n",
    "plt.show()"
   ]
  },
  {
   "cell_type": "code",
   "execution_count": 31,
   "metadata": {},
   "outputs": [],
   "source": [
    "\n",
    "\n",
    "GarageArea_mode = housing[housing.GarageArea.notnull()]['GarageArea'].mode()[0]\n",
    "housing['GarageArea'].fillna(GarageArea_mode,inplace=True)\n",
    "\n",
    "GarageCars_mode = housing[housing.GarageCars.notnull()]['GarageCars'].mode()[0]\n",
    "housing['GarageCars'].fillna(GarageCars_mode,inplace=True)\n",
    "\n",
    "#-----------\n",
    "\n",
    "SaleType_mode = housing[housing.SaleType.notnull()]['SaleType'].mode()[0]\n",
    "housing['SaleType'].fillna(SaleType_mode,inplace=True)\n",
    "\n",
    "KitchenQual_mode = housing[housing.KitchenQual.notnull()]['KitchenQual'].mode()[0]\n",
    "housing['KitchenQual'].fillna(KitchenQual_mode,inplace=True)\n",
    "\n",
    "BsmtFinSF2_mode = housing[housing.BsmtFinSF2.notnull()]['BsmtFinSF2'].mode()[0]\n",
    "housing['BsmtFinSF2'].fillna(BsmtFinSF2_mode,inplace=True)\n",
    "\n",
    "BsmtFinSF1_mode = housing[housing.BsmtFinSF1.notnull()]['BsmtFinSF1'].mode()[0]\n",
    "housing['BsmtFinSF1'].fillna(BsmtFinSF1_mode,inplace=True)"
   ]
  },
  {
   "cell_type": "code",
   "execution_count": null,
   "metadata": {
    "collapsed": true
   },
   "outputs": [],
   "source": []
  },
  {
   "cell_type": "code",
   "execution_count": null,
   "metadata": {
    "collapsed": true
   },
   "outputs": [],
   "source": []
  }
 ],
 "metadata": {
  "kernelspec": {
   "display_name": "Python 3",
   "language": "python",
   "name": "python3"
  },
  "language_info": {
   "codemirror_mode": {
    "name": "ipython",
    "version": 3
   },
   "file_extension": ".py",
   "mimetype": "text/x-python",
   "name": "python",
   "nbconvert_exporter": "python",
   "pygments_lexer": "ipython3",
   "version": "3.6.3"
  }
 },
 "nbformat": 4,
 "nbformat_minor": 2
}
